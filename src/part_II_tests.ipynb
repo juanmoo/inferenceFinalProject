{
 "cells": [
  {
   "cell_type": "code",
   "execution_count": 1,
   "metadata": {},
   "outputs": [],
   "source": [
    "import sys\n",
    "sys.path.append('.')\n",
    "import os"
   ]
  },
  {
   "cell_type": "code",
   "execution_count": 2,
   "metadata": {},
   "outputs": [
    {
     "name": "stderr",
     "output_type": "stream",
     "text": [
      "/Users/juanmoo/Dropbox (MIT)/2021/6.437/6.437 Project/src/decode.py:21: RuntimeWarning: divide by zero encountered in log2\n",
      "  log_M = np.log2(np.genfromtxt(os.path.join(path_prefix,\n"
     ]
    }
   ],
   "source": [
    "import numpy as np\n",
    "import encode\n",
    "# import decode\n",
    "from decode import *\n",
    "import re\n",
    "is_submission=False"
   ]
  },
  {
   "cell_type": "code",
   "execution_count": 3,
   "metadata": {},
   "outputs": [],
   "source": [
    "# Paths\n",
    "data_dir = '../data/'\n",
    "don_juan_dir = os.path.join(data_dir, 'don_juan')"
   ]
  },
  {
   "cell_type": "markdown",
   "metadata": {},
   "source": [
    "## Clean data to test"
   ]
  },
  {
   "cell_type": "code",
   "execution_count": 4,
   "metadata": {},
   "outputs": [],
   "source": [
    "# Load raw text\n",
    "raw_text_path = os.path.join(don_juan_dir, 'raw.txt')\n",
    "raw = open(raw_text_path, 'r').read()\n",
    "\n",
    "# Save clean text\n",
    "clean_text_path = os.path.join(don_juan_dir, 'clean.txt')\n",
    "clean = encode._clean_text(raw)\n",
    "f = open(clean_text_path, 'w')\n",
    "f.write(clean)\n",
    "f.close()"
   ]
  },
  {
   "cell_type": "markdown",
   "metadata": {},
   "source": [
    "## Get text samples for testing"
   ]
  },
  {
   "cell_type": "code",
   "execution_count": 5,
   "metadata": {},
   "outputs": [],
   "source": [
    "import os\n",
    "\n",
    "clean_text_path = os.path.join(don_juan_dir, 'clean.txt')\n",
    "with open(clean_text_path, 'r') as clean_text_file:\n",
    "    clean_text = clean_text_file.read()"
   ]
  },
  {
   "cell_type": "code",
   "execution_count": 6,
   "metadata": {},
   "outputs": [],
   "source": [
    "np.random.seed(0)\n",
    "\n",
    "num_samples = 100\n",
    "stop_idx = len(clean_text) - (ciphertext_mean_length + 5 * ciphertext_std_length)\n",
    "start_locs = np.random.randint(0, stop_idx, num_samples)\n",
    "sample_lens = [ciphertext_mean_length + int(j) for j in np.random.normal(loc=0, scale=ciphertext_std_length, size=num_samples)]\n",
    "sample_texts = [clean_text[s: s + l] for s, l in zip(start_locs, sample_lens)]"
   ]
  },
  {
   "cell_type": "code",
   "execution_count": 7,
   "metadata": {},
   "outputs": [],
   "source": [
    "# no breakpoints\n",
    "plaintexts_nb = sample_texts[:num_samples//2]\n",
    "ciphertexts_nb = [encode.encode(t) for t in plaintexts_nb]"
   ]
  },
  {
   "cell_type": "code",
   "execution_count": 8,
   "metadata": {},
   "outputs": [],
   "source": [
    "# with breakpoints\n",
    "plaintexts_b = sample_texts[num_samples//2:]\n",
    "ciphertexts_b = [encode.encode(t) for t in plaintexts_b]"
   ]
  },
  {
   "cell_type": "markdown",
   "metadata": {},
   "source": [
    "## Breakpoint Testing "
   ]
  },
  {
   "cell_type": "code",
   "execution_count": 9,
   "metadata": {},
   "outputs": [],
   "source": [
    "plaintext = plaintexts_b[1]\n",
    "ciphertext = ciphertexts_b[1]"
   ]
  },
  {
   "cell_type": "code",
   "execution_count": 10,
   "metadata": {},
   "outputs": [],
   "source": [
    "logger = {'total_ll': []}\n",
    "x_decoded = decode(ciphertext, True, logger=logger)"
   ]
  },
  {
   "cell_type": "code",
   "execution_count": null,
   "metadata": {},
   "outputs": [],
   "source": []
  },
  {
   "cell_type": "code",
   "execution_count": 11,
   "metadata": {},
   "outputs": [
    {
     "data": {
      "text/plain": [
       "[<matplotlib.lines.Line2D at 0x7ff24ae78970>]"
      ]
     },
     "execution_count": 11,
     "metadata": {},
     "output_type": "execute_result"
    },
    {
     "data": {
      "image/png": "[encoded data removed]",
      "text/plain": [
       "<Figure size 432x288 with 1 Axes>"
      ]
     },
     "metadata": {
      "needs_background": "light"
     },
     "output_type": "display_data"
    }
   ],
   "source": [
    "from matplotlib import pyplot as plt\n",
    "\n",
    "iter_steps = len(logger['total_ll'])\n",
    "\n",
    "x_plot = np.arange(iter_steps)\n",
    "y_plot = np.array(logger['total_ll'])\n",
    "plt.plot(x_plot, y_plot)"
   ]
  },
  {
   "cell_type": "code",
   "execution_count": 12,
   "metadata": {},
   "outputs": [
    {
     "data": {
      "text/plain": [
       "1.0"
      ]
     },
     "execution_count": 12,
     "metadata": {},
     "output_type": "execute_result"
    }
   ],
   "source": [
    "(np.array(list(x_decoded)) == np.array(list(plaintext))).mean()"
   ]
  },
  {
   "cell_type": "code",
   "execution_count": 13,
   "metadata": {},
   "outputs": [
    {
     "data": {
      "text/plain": [
       "4.648198843002319"
      ]
     },
     "execution_count": 13,
     "metadata": {},
     "output_type": "execute_result"
    }
   ],
   "source": [
    "logger['time']"
   ]
  },
  {
   "cell_type": "code",
   "execution_count": 14,
   "metadata": {},
   "outputs": [],
   "source": [
    "ll_list = np.array(logger['total_ll'])"
   ]
  },
  {
   "cell_type": "code",
   "execution_count": 15,
   "metadata": {},
   "outputs": [],
   "source": [
    "window = 300\n",
    "idx = np.arange(len(ll_list) - window)\n",
    "start = idx\n",
    "stop = start + window\n",
    "start = np.clip(ll_list[start], -1e99, 1e99)\n",
    "stop = np.clip(ll_list[stop], -1e99, 1e99)\n",
    "diff_percent = -((stop - start)/start)"
   ]
  },
  {
   "cell_type": "code",
   "execution_count": 16,
   "metadata": {},
   "outputs": [
    {
     "data": {
      "text/plain": [
       "[<matplotlib.lines.Line2D at 0x7ff24af70b20>]"
      ]
     },
     "execution_count": 16,
     "metadata": {},
     "output_type": "execute_result"
    },
    {
     "data": {
      "image/png": "[encoded data removed]",
      "text/plain": [
       "<Figure size 432x288 with 1 Axes>"
      ]
     },
     "metadata": {
      "needs_background": "light"
     },
     "output_type": "display_data"
    }
   ],
   "source": [
    "oth = np.array([0.001] * len(idx))\n",
    "idx = idx + window\n",
    "plt.plot(idx, diff_percent)\n",
    "plt.plot(idx, oth)"
   ]
  },
  {
   "cell_type": "code",
   "execution_count": null,
   "metadata": {},
   "outputs": [],
   "source": []
  },
  {
   "cell_type": "code",
   "execution_count": 75,
   "metadata": {},
   "outputs": [],
   "source": [
    "freq_eng = np.argsort(c.log_P)[::-1]"
   ]
  },
  {
   "cell_type": "code",
   "execution_count": 76,
   "metadata": {},
   "outputs": [
    {
     "data": {
      "text/plain": [
       "array([26,  4, 19,  0, 14, 13,  8,  7, 18, 17,  3, 11, 20, 12, 22,  2,  5,\n",
       "       24,  6, 15,  1, 27, 21, 10, 23,  9, 16, 25])"
      ]
     },
     "execution_count": 76,
     "metadata": {},
     "output_type": "execute_result"
    }
   ],
   "source": [
    "freq_eng"
   ]
  },
  {
   "cell_type": "code",
   "execution_count": 77,
   "metadata": {},
   "outputs": [
    {
     "data": {
      "text/plain": [
       "array([' ', 'e', 't', 'a', 'o', 'n', 'i', 'h', 's', 'r', 'd', 'l', 'u',\n",
       "       'm', 'w', 'c', 'f', 'y', 'g', 'p', 'b', '.', 'v', 'k', 'x', 'j',\n",
       "       'q', 'z'], dtype='<U1')"
      ]
     },
     "execution_count": 77,
     "metadata": {},
     "output_type": "execute_result"
    }
   ],
   "source": [
    "c.A[freq_eng]"
   ]
  },
  {
   "cell_type": "code",
   "execution_count": null,
   "metadata": {},
   "outputs": [],
   "source": []
  }
 ],
 "metadata": {
  "kernelspec": {
   "display_name": "Python 3",
   "language": "python",
   "name": "python3"
  },
  "language_info": {
   "codemirror_mode": {
    "name": "ipython",
    "version": 3
   },
   "file_extension": ".py",
   "mimetype": "text/x-python",
   "name": "python",
   "nbconvert_exporter": "python",
   "pygments_lexer": "ipython3",
   "version": "3.8.5"
  }
 },
 "nbformat": 4,
 "nbformat_minor": 4
}
